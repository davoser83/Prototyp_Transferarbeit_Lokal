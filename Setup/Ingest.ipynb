{
 "cells": [
  {
   "cell_type": "markdown",
   "metadata": {},
   "source": [
    "# Importiere benötigte Bibliotheken\n",
    "In diesem Notebook werden die notwendigen Bibliotheken importiert."
   ]
  },
  {
   "cell_type": "code",
   "execution_count": 1,
   "metadata": {},
   "outputs": [],
   "source": [
    "import requests\n",
    "import json\n",
    "from pyspark.sql import SparkSession\n",
    "from google.cloud import storage\n",
    "from google.oauth2 import service_account"
   ]
  },
  {
   "cell_type": "markdown",
   "metadata": {},
   "source": [
    "# Initialisiere Spark Session\n",
    "In diesem Notebook wird die Spark Session vorbereitet."
   ]
  },
  {
   "cell_type": "code",
   "execution_count": 2,
   "metadata": {},
   "outputs": [
    {
     "name": "stderr",
     "output_type": "stream",
     "text": [
      "24/06/16 20:48:15 WARN Utils: Your hostname, MacBook-Pro-3.local resolves to a loopback address: 127.0.0.1; using 192.168.1.229 instead (on interface en0)\n",
      "24/06/16 20:48:15 WARN Utils: Set SPARK_LOCAL_IP if you need to bind to another address\n",
      "Ivy Default Cache set to: /Users/Kevin/.ivy2/cache\n",
      "The jars for the packages stored in: /Users/Kevin/.ivy2/jars\n",
      "com.google.cloud.bigdataoss#gcs-connector added as a dependency\n",
      ":: resolving dependencies :: org.apache.spark#spark-submit-parent-eba9226e-19de-44a3-9a78-29d1d9a3f928;1.0\n",
      "\tconfs: [default]\n"
     ]
    },
    {
     "name": "stdout",
     "output_type": "stream",
     "text": [
      ":: loading settings :: url = jar:file:/opt/anaconda3/lib/python3.11/site-packages/pyspark/jars/ivy-2.5.1.jar!/org/apache/ivy/core/settings/ivysettings.xml\n"
     ]
    },
    {
     "name": "stderr",
     "output_type": "stream",
     "text": [
      "\tfound com.google.cloud.bigdataoss#gcs-connector;hadoop3-2.2.2 in central\n",
      "\tfound com.google.api-client#google-api-client-jackson2;1.31.3 in central\n",
      "\tfound com.google.api-client#google-api-client;1.31.3 in central\n",
      "\tfound com.google.oauth-client#google-oauth-client;1.31.2 in central\n",
      "\tfound com.google.http-client#google-http-client;1.39.0 in central\n",
      "\tfound org.apache.httpcomponents#httpclient;4.5.13 in central\n",
      "\tfound org.apache.httpcomponents#httpcore;4.4.14 in central\n",
      "\tfound commons-logging#commons-logging;1.2 in central\n",
      "\tfound commons-codec#commons-codec;1.15 in central\n",
      "\tfound com.google.code.findbugs#jsr305;3.0.2 in central\n",
      "\tfound com.google.guava#guava;30.1-jre in central\n",
      "\tfound com.google.guava#failureaccess;1.0.1 in central\n",
      "\tfound com.google.guava#listenablefuture;9999.0-empty-to-avoid-conflict-with-guava in central\n",
      "\tfound org.checkerframework#checker-qual;3.5.0 in central\n",
      "\tfound com.google.errorprone#error_prone_annotations;2.5.1 in central\n",
      "\tfound com.google.j2objc#j2objc-annotations;1.3 in central\n",
      "\tfound io.opencensus#opencensus-api;0.28.0 in central\n",
      "\tfound io.grpc#grpc-context;1.37.0 in central\n",
      "\tfound io.opencensus#opencensus-contrib-http-util;0.28.0 in central\n",
      "\tfound com.google.http-client#google-http-client-gson;1.39.0 in central\n",
      "\tfound com.google.code.gson#gson;2.8.6 in central\n",
      "\tfound com.google.http-client#google-http-client-apache-v2;1.39.0 in central\n",
      "\tfound com.google.cloud.bigdataoss#util;2.2.2 in central\n",
      "\tfound com.google.http-client#google-http-client-jackson2;1.38.0 in central\n",
      "\tfound com.fasterxml.jackson.core#jackson-core;2.11.3 in central\n",
      "\tfound com.google.apis#google-api-services-iamcredentials;v1-rev20201022-1.31.0 in central\n",
      "\tfound com.google.apis#google-api-services-storage;v1-rev20201112-1.31.0 in central\n",
      "\tfound com.google.auto.value#auto-value-annotations;1.7.4 in central\n",
      "\tfound com.google.auth#google-auth-library-oauth2-http;0.22.2 in central\n",
      "\tfound com.google.auth#google-auth-library-credentials;0.22.2 in central\n",
      "\tfound com.google.flogger#google-extensions;0.5.1 in central\n",
      "\tfound com.google.flogger#flogger;0.5.1 in central\n",
      "\tfound org.checkerframework#checker-compat-qual;2.5.3 in central\n",
      "\tfound com.google.flogger#flogger-system-backend;0.5.1 in central\n",
      "\tfound com.google.cloud.bigdataoss#util-hadoop;hadoop3-2.2.2 in central\n",
      "\tfound com.google.cloud.bigdataoss#gcsio;2.2.2 in central\n",
      "\tfound io.grpc#grpc-api;1.37.0 in central\n",
      "\tfound io.grpc#grpc-alts;1.37.0 in central\n",
      "\tfound io.grpc#grpc-auth;1.37.0 in central\n",
      "\tfound io.grpc#grpc-grpclb;1.37.0 in central\n",
      "\tfound io.grpc#grpc-protobuf;1.37.0 in central\n",
      "\tfound com.google.protobuf#protobuf-java;3.14.0 in central\n",
      "\tfound com.google.api.grpc#proto-google-common-protos;2.0.1 in central\n",
      "\tfound io.grpc#grpc-protobuf-lite;1.37.0 in central\n",
      "\tfound io.grpc#grpc-stub;1.37.0 in central\n",
      "\tfound org.conscrypt#conscrypt-openjdk-uber;2.5.1 in central\n",
      "\tfound io.grpc#grpc-netty-shaded;1.37.0 in central\n",
      "\tfound io.grpc#grpc-core;1.37.0 in central\n",
      "\tfound com.google.api.grpc#proto-google-iam-v1;1.0.5 in central\n",
      "\tfound com.google.protobuf#protobuf-java-util;3.14.0 in central\n",
      "\tfound org.codehaus.mojo#animal-sniffer-annotations;1.19 in central\n",
      "\tfound com.google.android#annotations;4.1.1.4 in central\n",
      "\tfound io.perfmark#perfmark-api;0.23.0 in central\n",
      ":: resolution report :: resolve 516ms :: artifacts dl 15ms\n",
      "\t:: modules in use:\n",
      "\tcom.fasterxml.jackson.core#jackson-core;2.11.3 from central in [default]\n",
      "\tcom.google.android#annotations;4.1.1.4 from central in [default]\n",
      "\tcom.google.api-client#google-api-client;1.31.3 from central in [default]\n",
      "\tcom.google.api-client#google-api-client-jackson2;1.31.3 from central in [default]\n",
      "\tcom.google.api.grpc#proto-google-common-protos;2.0.1 from central in [default]\n",
      "\tcom.google.api.grpc#proto-google-iam-v1;1.0.5 from central in [default]\n",
      "\tcom.google.apis#google-api-services-iamcredentials;v1-rev20201022-1.31.0 from central in [default]\n",
      "\tcom.google.apis#google-api-services-storage;v1-rev20201112-1.31.0 from central in [default]\n",
      "\tcom.google.auth#google-auth-library-credentials;0.22.2 from central in [default]\n",
      "\tcom.google.auth#google-auth-library-oauth2-http;0.22.2 from central in [default]\n",
      "\tcom.google.auto.value#auto-value-annotations;1.7.4 from central in [default]\n",
      "\tcom.google.cloud.bigdataoss#gcs-connector;hadoop3-2.2.2 from central in [default]\n",
      "\tcom.google.cloud.bigdataoss#gcsio;2.2.2 from central in [default]\n",
      "\tcom.google.cloud.bigdataoss#util;2.2.2 from central in [default]\n",
      "\tcom.google.cloud.bigdataoss#util-hadoop;hadoop3-2.2.2 from central in [default]\n",
      "\tcom.google.code.findbugs#jsr305;3.0.2 from central in [default]\n",
      "\tcom.google.code.gson#gson;2.8.6 from central in [default]\n",
      "\tcom.google.errorprone#error_prone_annotations;2.5.1 from central in [default]\n",
      "\tcom.google.flogger#flogger;0.5.1 from central in [default]\n",
      "\tcom.google.flogger#flogger-system-backend;0.5.1 from central in [default]\n",
      "\tcom.google.flogger#google-extensions;0.5.1 from central in [default]\n",
      "\tcom.google.guava#failureaccess;1.0.1 from central in [default]\n",
      "\tcom.google.guava#guava;30.1-jre from central in [default]\n",
      "\tcom.google.guava#listenablefuture;9999.0-empty-to-avoid-conflict-with-guava from central in [default]\n",
      "\tcom.google.http-client#google-http-client;1.39.0 from central in [default]\n",
      "\tcom.google.http-client#google-http-client-apache-v2;1.39.0 from central in [default]\n",
      "\tcom.google.http-client#google-http-client-gson;1.39.0 from central in [default]\n",
      "\tcom.google.http-client#google-http-client-jackson2;1.38.0 from central in [default]\n",
      "\tcom.google.j2objc#j2objc-annotations;1.3 from central in [default]\n",
      "\tcom.google.oauth-client#google-oauth-client;1.31.2 from central in [default]\n",
      "\tcom.google.protobuf#protobuf-java;3.14.0 from central in [default]\n",
      "\tcom.google.protobuf#protobuf-java-util;3.14.0 from central in [default]\n",
      "\tcommons-codec#commons-codec;1.15 from central in [default]\n",
      "\tcommons-logging#commons-logging;1.2 from central in [default]\n",
      "\tio.grpc#grpc-alts;1.37.0 from central in [default]\n",
      "\tio.grpc#grpc-api;1.37.0 from central in [default]\n",
      "\tio.grpc#grpc-auth;1.37.0 from central in [default]\n",
      "\tio.grpc#grpc-context;1.37.0 from central in [default]\n",
      "\tio.grpc#grpc-core;1.37.0 from central in [default]\n",
      "\tio.grpc#grpc-grpclb;1.37.0 from central in [default]\n",
      "\tio.grpc#grpc-netty-shaded;1.37.0 from central in [default]\n",
      "\tio.grpc#grpc-protobuf;1.37.0 from central in [default]\n",
      "\tio.grpc#grpc-protobuf-lite;1.37.0 from central in [default]\n",
      "\tio.grpc#grpc-stub;1.37.0 from central in [default]\n",
      "\tio.opencensus#opencensus-api;0.28.0 from central in [default]\n",
      "\tio.opencensus#opencensus-contrib-http-util;0.28.0 from central in [default]\n",
      "\tio.perfmark#perfmark-api;0.23.0 from central in [default]\n",
      "\torg.apache.httpcomponents#httpclient;4.5.13 from central in [default]\n",
      "\torg.apache.httpcomponents#httpcore;4.4.14 from central in [default]\n",
      "\torg.checkerframework#checker-compat-qual;2.5.3 from central in [default]\n",
      "\torg.checkerframework#checker-qual;3.5.0 from central in [default]\n",
      "\torg.codehaus.mojo#animal-sniffer-annotations;1.19 from central in [default]\n",
      "\torg.conscrypt#conscrypt-openjdk-uber;2.5.1 from central in [default]\n",
      "\t:: evicted modules:\n",
      "\tcom.google.http-client#google-http-client;1.38.0 by [com.google.http-client#google-http-client;1.39.0] in [default]\n",
      "\tcom.google.api-client#google-api-client;1.31.1 by [com.google.api-client#google-api-client;1.31.3] in [default]\n",
      "\tcom.google.errorprone#error_prone_annotations;2.4.0 by [com.google.errorprone#error_prone_annotations;2.5.1] in [default]\n",
      "\tcom.google.errorprone#error_prone_annotations;2.3.4 by [com.google.errorprone#error_prone_annotations;2.5.1] in [default]\n",
      "\t---------------------------------------------------------------------\n",
      "\t|                  |            modules            ||   artifacts   |\n",
      "\t|       conf       | number| search|dwnlded|evicted|| number|dwnlded|\n",
      "\t---------------------------------------------------------------------\n",
      "\t|      default     |   57  |   0   |   0   |   4   ||   53  |   0   |\n",
      "\t---------------------------------------------------------------------\n",
      ":: retrieving :: org.apache.spark#spark-submit-parent-eba9226e-19de-44a3-9a78-29d1d9a3f928\n",
      "\tconfs: [default]\n",
      "\t0 artifacts copied, 53 already retrieved (0kB/9ms)\n",
      "24/06/16 20:48:16 WARN NativeCodeLoader: Unable to load native-hadoop library for your platform... using builtin-java classes where applicable\n",
      "Setting default log level to \"WARN\".\n",
      "To adjust logging level use sc.setLogLevel(newLevel). For SparkR, use setLogLevel(newLevel).\n"
     ]
    },
    {
     "data": {
      "text/html": [
       "\n",
       "            <div>\n",
       "                <p><b>SparkSession - in-memory</b></p>\n",
       "                \n",
       "        <div>\n",
       "            <p><b>SparkContext</b></p>\n",
       "\n",
       "            <p><a href=\"http://192.168.1.229:4040\">Spark UI</a></p>\n",
       "\n",
       "            <dl>\n",
       "              <dt>Version</dt>\n",
       "                <dd><code>v3.5.1</code></dd>\n",
       "              <dt>Master</dt>\n",
       "                <dd><code>local[*]</code></dd>\n",
       "              <dt>AppName</dt>\n",
       "                <dd><code>MockServerToGCS</code></dd>\n",
       "            </dl>\n",
       "        </div>\n",
       "        \n",
       "            </div>\n",
       "        "
      ],
      "text/plain": [
       "<pyspark.sql.session.SparkSession at 0x1069b2210>"
      ]
     },
     "execution_count": 2,
     "metadata": {},
     "output_type": "execute_result"
    }
   ],
   "source": [
    "# Beispiel für das Hinzufügen des GCS Connectors zu einer lokalen Spark-Session\n",
    "spark = SparkSession.builder \\\n",
    "    .appName(\"MockServerToGCS\") \\\n",
    "    .config(\"spark.jars.packages\", \"com.google.cloud.bigdataoss:gcs-connector:hadoop3-2.2.2\") \\\n",
    "    .config(\"spark.hadoop.fs.gs.impl\", \"com.google.cloud.hadoop.fs.gcs.GoogleHadoopFileSystem\") \\\n",
    "    .config(\"spark.hadoop.google.cloud.auth.service.account.enable\", \"true\") \\\n",
    "    .config(\"spark.hadoop.google.cloud.auth.service.account.json.keyfile\", \"/Users/Kevin/Documents/GitHub/Transferarbeit/Prototyp_Transferarbeit_Lokal/Setup/prototyp-etl-pipline-d6cbb438aa70.json\") \\\n",
    "    .getOrCreate()\n",
    "    \n",
    "# Überprüfen der SparkSession\n",
    "spark"
   ]
  },
  {
   "cell_type": "markdown",
   "metadata": {},
   "source": [
    "# Abrufen der Daten vom Mockserver\n",
    "In diesem Notebook werden die Daten von einem Mockserver abgerufen.\n"
   ]
  },
  {
   "cell_type": "code",
   "execution_count": 3,
   "metadata": {},
   "outputs": [
    {
     "name": "stderr",
     "output_type": "stream",
     "text": [
      "24/06/16 20:48:27 WARN GarbageCollectionMetrics: To enable non-built-in garbage collector(s) List(G1 Concurrent GC), users should configure it(them) to spark.eventLog.gcMetrics.youngGenerationGarbageCollectors or spark.eventLog.gcMetrics.oldGenerationGarbageCollectors\n"
     ]
    }
   ],
   "source": [
    "# Mockserver URL\n",
    "mockserver_url = 'http://localhost:3000/applicants'\n",
    "\n",
    "# Daten von Mockserver abrufen\n",
    "response = requests.get(mockserver_url)\n",
    "if response.status_code != 200:\n",
    "    raise Exception(f\"Failed to retrieve data: {response.status_code}\")\n",
    "\n",
    "try:\n",
    "    data = response.json()\n",
    "except json.JSONDecodeError as e:\n",
    "    print(\"Error decoding JSON:\", e)\n",
    "    print(\"Response text:\", response.text)\n",
    "    raise\n"
   ]
  },
  {
   "cell_type": "markdown",
   "metadata": {},
   "source": [
    "# Speichern der Daten in eine temporäre JSON-Datei\n",
    "In diesem Notebook werden die abgerufenen Daten in eine temporäre JSON-Datei gespeichert.\n"
   ]
  },
  {
   "cell_type": "code",
   "execution_count": 5,
   "metadata": {},
   "outputs": [],
   "source": [
    "# Temporärer Pfad für die JSON-Datei\n",
    "temp_json_path = '/tmp/mock_data.json'\n",
    "\n",
    "# Speichern der Daten in eine JSON-Datei\n",
    "with open(temp_json_path, 'w') as f:\n",
    "    json.dump(data, f)\n"
   ]
  },
  {
   "cell_type": "markdown",
   "metadata": {},
   "source": [
    "# Konfiguration für Google Cloud Storage und hochladen der Jason Datei\n",
    "In diesem Notebook wird die Google Cloud konfiguriert und die Jason Datei hochgeladen\n"
   ]
  },
  {
   "cell_type": "code",
   "execution_count": 6,
   "metadata": {},
   "outputs": [
    {
     "name": "stdout",
     "output_type": "stream",
     "text": [
      "File successfully uploaded to bronze/applicant_data_raw in bucket prod_prototype.\n"
     ]
    },
    {
     "name": "stderr",
     "output_type": "stream",
     "text": [
      "24/06/16 18:08:23 WARN GarbageCollectionMetrics: To enable non-built-in garbage collector(s) List(G1 Concurrent GC), users should configure it(them) to spark.eventLog.gcMetrics.youngGenerationGarbageCollectors or spark.eventLog.gcMetrics.oldGenerationGarbageCollectors\n"
     ]
    }
   ],
   "source": [
    "# Namen des Google Cloud Storage Buckets und der Zieldatei festlegen\n",
    "bucket_name = 'prod_prototype'\n",
    "destination_blob_name = 'bronze/applicant_data_raw'\n",
    "\n",
    "# Dienstkonto-Datei laden\n",
    "service_account_json = '/Users/Kevin/Documents/GitHub/Transferarbeit/Prototyp_Transferarbeit_Lokal/Setup/prototyp-etl-pipline-d6cbb438aa70.json'\n",
    "credentials = service_account.Credentials.from_service_account_file(service_account_json)\n",
    "\n",
    "# Google Cloud Storage Client initialisieren\n",
    "client = storage.Client(credentials=credentials, project='prototyp-etl-pipline')\n",
    "bucket = client.bucket(bucket_name)\n",
    "blob = bucket.blob(destination_blob_name)\n",
    "\n",
    "#Upload Jason File\n",
    "blob.upload_from_filename(temp_json_path)\n",
    "print(f\"File successfully uploaded to {destination_blob_name} in bucket {bucket_name}.\")\n",
    "\n"
   ]
  }
 ],
 "metadata": {
  "kernelspec": {
   "display_name": "Python 3",
   "language": "python",
   "name": "python3"
  },
  "language_info": {
   "codemirror_mode": {
    "name": "ipython",
    "version": 3
   },
   "file_extension": ".py",
   "mimetype": "text/x-python",
   "name": "python",
   "nbconvert_exporter": "python",
   "pygments_lexer": "ipython3",
   "version": "3.11.7"
  }
 },
 "nbformat": 4,
 "nbformat_minor": 2
}
