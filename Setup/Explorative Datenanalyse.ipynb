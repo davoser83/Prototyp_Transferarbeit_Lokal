{
 "cells": [
  {
   "cell_type": "code",
   "execution_count": null,
   "metadata": {},
   "outputs": [],
   "source": [
    "#Notizen, die wahrscheinlich nicht mehr benötig werden\n",
    "\n",
    "# Überprüfen der vorhandenen Spalten\n",
    "df_cleaned.printSchema()\n",
    "\n",
    "# Bereinigte Daten in eine neue Parquet-Datei speichern\n",
    "transformed_temp_path = '/tmp/applicant_data_transformed.parquet'\n",
    "df_cleaned.write.mode('overwrite').parquet(transformed_temp_path)\n",
    "print(f\"Transformierte Daten erfolgreich gespeichert zu {transformed_temp_path}.\")"
   ]
  }
 ],
 "metadata": {
  "language_info": {
   "name": "python"
  }
 },
 "nbformat": 4,
 "nbformat_minor": 2
}
