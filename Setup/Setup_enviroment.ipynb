{
 "cells": [
  {
   "cell_type": "markdown",
   "metadata": {},
   "source": [
    "# Vorbereitung und Installation der erforderlichen Pakete\n",
    "\n",
    "In diesem Notebook werden die erforderlichen Pakete für PySpark und Google Cloud Storage installiert.\n"
   ]
  },
  {
   "cell_type": "code",
   "execution_count": null,
   "metadata": {},
   "outputs": [],
   "source": [
    "# Installiere die erforderlichen Pakete\n",
    "!pip install pyspark\n",
    "!pip install google-cloud-storage\n",
    "!pip install google-auth"
   ]
  },
  {
   "cell_type": "markdown",
   "metadata": {},
   "source": [
    "# Initialisierung der SparkSession\n",
    "\n",
    "In diesem Notebook wird die SparkSession, die für die Verarbeitung mit PySpark benötigt wird installiert."
   ]
  },
  {
   "cell_type": "code",
   "execution_count": null,
   "metadata": {},
   "outputs": [],
   "source": [
    "from pyspark.sql import SparkSession\n",
    "\n",
    "# Initialisiere die SparkSession\n",
    "spark = SparkSession.builder \\\n",
    "    .appName(\"ETL Pipeline Structure Creation\") \\\n",
    "    .getOrCreate()\n",
    "\n",
    "# Überprüfen der SparkSession\n",
    "spark"
   ]
  },
  {
   "cell_type": "markdown",
   "metadata": {},
   "source": [
    "# Google Cloud Storage Konfiguration und Authentifizierung\n",
    "\n",
    "In diesem Notebook wird die Verbindung zu Google Cloud Storage und authentifizieren uns mit einem Dienstkonto konfiguriert."
   ]
  },
  {
   "cell_type": "code",
   "execution_count": null,
   "metadata": {},
   "outputs": [],
   "source": [
    "from google.oauth2 import service_account\n",
    "from google.cloud import storage\n",
    "\n",
    "# Dienstkonto-Datei laden\n",
    "credentials = service_account.Credentials.from_service_account_file(\n",
    "    '/Users/Kevin/Documents/GitHub/Transferarbeit/Setup/prototyp-etl-pipline-d6cbb438aa70.json')\n",
    "\n",
    "# Google Cloud Storage Client initialisieren\n",
    "client = storage.Client(credentials=credentials, project= 'prototyp-etl-pipline')\n",
    "\n",
    "# Überprüfen des Clients\n",
    "client\n"
   ]
  },
  {
   "cell_type": "markdown",
   "metadata": {},
   "source": [
    "# Funktion zur Erstellung von Verzeichnissen in Google Cloud Storage\n",
    "\n",
    "In diesem Notebook wird eine Funktion, um Verzeichnisse in Google Cloud Storage zu erstellen definiert.\n"
   ]
  },
  {
   "cell_type": "code",
   "execution_count": null,
   "metadata": {},
   "outputs": [],
   "source": [
    "# Funktion zur Erstellung eines Verzeichnisses in GCS, wenn es nicht bereits existiert\n",
    "def create_directory(bucket_name, directory_name):\n",
    "    bucket = client.get_bucket(bucket_name)\n",
    "    blob = bucket.blob(directory_name)\n",
    "    \n",
    "    if not blob.exists():  # Überprüfen, ob das Verzeichnis bereits existiert\n",
    "        blob.upload_from_string('')\n",
    "        print(f'Created directory: {directory_name}')\n",
    "    else:\n",
    "        print(f'Directory already exists: {directory_name}')\n",
    "\n",
    "# Testen der Funktion\n",
    "create_directory(bucket_name, 'test/')"
   ]
  },
  {
   "cell_type": "markdown",
   "metadata": {},
   "source": [
    "# Erstellung der Verzeichnisstruktur für die ETL-Pipeline\n",
    "\n",
    "In diesem Notebook wird die Verzeichnisstruktur für Bronze, Sensitive Data, Silver und Gold in Google Cloud Storage erstellt.\n"
   ]
  },
  {
   "cell_type": "code",
   "execution_count": null,
   "metadata": {},
   "outputs": [],
   "source": [
    "# Pfade für die Verzeichnisse definieren\n",
    "bronze_path = f'gs://{bucket_name}/bronze/'\n",
    "sensitive_path = f'gs://{bucket_name}/sensitive/'\n",
    "silver_path = f'gs://{bucket_name}/silver/'\n",
    "gold_path = f'gs://{bucket_name}/gold/'\n",
    "\n",
    "# Erstelle die Verzeichnisse\n",
    "create_directory(bucket_name, 'bronze/')\n",
    "create_directory(bucket_name, 'sensitive/')\n",
    "create_directory(bucket_name, 'silver/')\n",
    "create_directory(bucket_name, 'gold/')"
   ]
  },
  {
   "cell_type": "markdown",
   "metadata": {},
   "source": [
    "# Schliessen der SparkSession\n",
    "\n",
    "In diesem Notebook wird die SparkSession, nachdem die Verzeichnisse erstellt wurde geschlossen.\n"
   ]
  },
  {
   "cell_type": "code",
   "execution_count": null,
   "metadata": {},
   "outputs": [],
   "source": [
    "# Schliessen der SparkSession\n",
    "spark.stop()"
   ]
  }
 ],
 "metadata": {
  "kernelspec": {
   "display_name": "env",
   "language": "python",
   "name": "python3"
  },
  "language_info": {
   "codemirror_mode": {
    "name": "ipython",
    "version": 3
   },
   "file_extension": ".py",
   "mimetype": "text/x-python",
   "name": "python",
   "nbconvert_exporter": "python",
   "pygments_lexer": "ipython3",
   "version": "3.11.7"
  }
 },
 "nbformat": 4,
 "nbformat_minor": 2
}
