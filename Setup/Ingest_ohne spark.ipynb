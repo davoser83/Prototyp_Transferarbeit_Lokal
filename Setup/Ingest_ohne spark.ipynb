{
 "cells": [
  {
   "cell_type": "markdown",
   "metadata": {},
   "source": [
    "# Importiere benötigte Bibliotheken\n",
    "In diesem Notebook werden die notwendigen Bibliotheken importiert."
   ]
  },
  {
   "cell_type": "code",
   "execution_count": 8,
   "metadata": {},
   "outputs": [],
   "source": [
    "import requests\n",
    "import json\n",
    "from pyspark.sql import SparkSession\n",
    "from google.cloud import storage\n",
    "from google.oauth2 import service_account"
   ]
  },
  {
   "cell_type": "markdown",
   "metadata": {},
   "source": [
    "# Abrufen der Daten vom Mockserver\n",
    "In diesem Notebook werden die Daten von einem Mockserver abgerufen.\n"
   ]
  },
  {
   "cell_type": "code",
   "execution_count": 9,
   "metadata": {},
   "outputs": [],
   "source": [
    "# Mockserver URL\n",
    "mockserver_url = 'http://localhost:3000/applicants'\n",
    "\n",
    "# Daten von Mockserver abrufen\n",
    "response = requests.get(mockserver_url)\n",
    "if response.status_code != 200:\n",
    "    raise Exception(f\"Failed to retrieve data: {response.status_code}\")\n",
    "\n",
    "try:\n",
    "    data = response.json()\n",
    "except json.JSONDecodeError as e:\n",
    "    print(\"Error decoding JSON:\", e)\n",
    "    print(\"Response text:\", response.text)\n",
    "    raise\n"
   ]
  },
  {
   "cell_type": "markdown",
   "metadata": {},
   "source": [
    "# Speichern der Daten in eine temporäre JSON-Datei\n",
    "In diesem Notebook werden die abgerufenen Daten in eine temporäre JSON-Datei gespeichert.\n"
   ]
  },
  {
   "cell_type": "code",
   "execution_count": 10,
   "metadata": {},
   "outputs": [],
   "source": [
    "# Temporärer Pfad für die JSON-Datei\n",
    "temp_json_path = '/tmp/mock_data.json'\n",
    "\n",
    "# Speichern der Daten in eine JSON-Datei\n",
    "with open(temp_json_path, 'w') as f:\n",
    "    json.dump(data, f)\n"
   ]
  },
  {
   "cell_type": "markdown",
   "metadata": {},
   "source": [
    "# Konfiguration für Google Cloud Storage und hochladen der Jason Datei\n",
    "In diesem Notebook wird die Google Cloud konfiguriert und die Jason Datei hochgeladen\n"
   ]
  },
  {
   "cell_type": "code",
   "execution_count": 12,
   "metadata": {},
   "outputs": [
    {
     "name": "stdout",
     "output_type": "stream",
     "text": [
      "File successfully uploaded to bronze/applicant_data_raw in bucket prod_prototype.\n"
     ]
    }
   ],
   "source": [
    "# Namen des Google Cloud Storage Buckets und der Zieldatei festlegen\n",
    "bucket_name = 'prod_prototype'\n",
    "destination_blob_name = 'bronze/applicant_data_raw'\n",
    "\n",
    "# Dienstkonto-Datei laden\n",
    "service_account_json = '/Users/Kevin/Documents/GitHub/Transferarbeit/Prototyp_Transferarbeit_Lokal/Setup/prototyp-etl-pipline-d6cbb438aa70.json'\n",
    "credentials = service_account.Credentials.from_service_account_file(service_account_json)\n",
    "\n",
    "# Google Cloud Storage Client initialisieren\n",
    "client = storage.Client(credentials=credentials, project='prototyp-etl-pipline')\n",
    "bucket = client.bucket(bucket_name)\n",
    "blob = bucket.blob(destination_blob_name)\n",
    "\n",
    "#Upload Jason File\n",
    "blob.upload_from_filename(temp_json_path)\n",
    "print(f\"File successfully uploaded to {destination_blob_name} in bucket {bucket_name}.\")\n",
    "\n"
   ]
  }
 ],
 "metadata": {
  "kernelspec": {
   "display_name": "Python 3",
   "language": "python",
   "name": "python3"
  },
  "language_info": {
   "codemirror_mode": {
    "name": "ipython",
    "version": 3
   },
   "file_extension": ".py",
   "mimetype": "text/x-python",
   "name": "python",
   "nbconvert_exporter": "python",
   "pygments_lexer": "ipython3",
   "version": "3.11.7"
  }
 },
 "nbformat": 4,
 "nbformat_minor": 2
}
