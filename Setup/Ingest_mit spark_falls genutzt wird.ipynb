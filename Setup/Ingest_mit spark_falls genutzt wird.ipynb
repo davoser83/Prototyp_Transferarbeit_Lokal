{
 "cells": [
  {
   "cell_type": "markdown",
   "metadata": {},
   "source": [
    "# Importiere benötigte Bibliotheken\n",
    "In diesem Notebook werden die notwendigen Bibliotheken importiert."
   ]
  },
  {
   "cell_type": "code",
   "execution_count": 29,
   "metadata": {},
   "outputs": [],
   "source": [
    "import requests\n",
    "import json\n",
    "from pyspark.sql import SparkSession\n",
    "from google.cloud import storage\n",
    "from google.oauth2 import service_account"
   ]
  },
  {
   "cell_type": "markdown",
   "metadata": {},
   "source": [
    "# Initialisiere Spark Session\n",
    "In diesem Notebook wird die Spark Session vorbereitet.\n"
   ]
  },
  {
   "cell_type": "code",
   "execution_count": 30,
   "metadata": {},
   "outputs": [
    {
     "name": "stderr",
     "output_type": "stream",
     "text": [
      "24/06/16 15:09:20 WARN SparkSession: Using an existing Spark session; only runtime SQL configurations will take effect.\n"
     ]
    }
   ],
   "source": [
    "# Beispiel für das Hinzufügen des GCS Connectors zu einer lokalen Spark-Session\n",
    "spark = SparkSession.builder \\\n",
    "    .appName(\"MockServerToGCS\") \\\n",
    "    .config(\"spark.jars.packages\", \"com.google.cloud.bigdataoss:gcs-connector:hadoop3-2.2.2\") \\\n",
    "    .config(\"spark.hadoop.fs.gs.impl\", \"com.google.cloud.hadoop.fs.gcs.GoogleHadoopFileSystem\") \\\n",
    "    .config(\"spark.hadoop.google.cloud.auth.service.account.enable\", \"true\") \\\n",
    "    .config(\"spark.hadoop.google.cloud.auth.service.account.json.keyfile\", \"/Users/Kevin/Documents/GitHub/Transferarbeit/Prototyp_Transferarbeit_Lokal/Setup/prototyp-etl-pipline-d6cbb438aa70.json\") \\\n",
    "    .getOrCreate()\n"
   ]
  },
  {
   "cell_type": "markdown",
   "metadata": {},
   "source": [
    "# Abrufen der Daten vom Mockserver\n",
    "In diesem Notebook werden die Daten von einem Mockserver abgerufen.\n"
   ]
  },
  {
   "cell_type": "code",
   "execution_count": 31,
   "metadata": {},
   "outputs": [],
   "source": [
    "# Mockserver URL\n",
    "mockserver_url = 'http://localhost:3000/applicants'\n",
    "\n",
    "# Daten von Mockserver abrufen\n",
    "response = requests.get(mockserver_url)\n",
    "if response.status_code != 200:\n",
    "    raise Exception(f\"Failed to retrieve data: {response.status_code}\")\n",
    "\n",
    "try:\n",
    "    data = response.json()\n",
    "except json.JSONDecodeError as e:\n",
    "    print(\"Error decoding JSON:\", e)\n",
    "    print(\"Response text:\", response.text)\n",
    "    raise\n"
   ]
  },
  {
   "cell_type": "markdown",
   "metadata": {},
   "source": [
    "# Speichern der Daten in eine temporäre JSON-Datei\n",
    "In diesem Notebook werden die abgerufenen Daten in eine temporäre JSON-Datei gespeichert.\n"
   ]
  },
  {
   "cell_type": "code",
   "execution_count": 32,
   "metadata": {},
   "outputs": [],
   "source": [
    "# Temporärer Pfad für die JSON-Datei\n",
    "temp_json_path = '/tmp/mock_data.json'\n",
    "\n",
    "# Speichern der Daten in eine JSON-Datei\n",
    "with open(temp_json_path, 'w') as f:\n",
    "    json.dump(data, f)\n"
   ]
  },
  {
   "cell_type": "markdown",
   "metadata": {},
   "source": [
    "# Laden der JSON-Datei in einen Spark DataFrame\n",
    "In diesem Notebook werden die Daten aus der JSON-Datei in einen Spark DataFrame geladen.\n"
   ]
  },
  {
   "cell_type": "code",
   "execution_count": 33,
   "metadata": {},
   "outputs": [
    {
     "name": "stdout",
     "output_type": "stream",
     "text": [
      "+--------------------+--------------------+---------------+------------------+--------------------+-------------------------+----------------------+--------------------+-----------------+-----------------+------------+--------------------+----------+----------------+--------------------+--------------------+--------------------+--------------------+------------+--------+------------+--------------------+--------------------+----------------------+--------+----+\n",
      "|     Ablehnungsgrund|             Adresse|Bewerbungsdatum|  Bewerbungsquelle|Bewertung Assessment|Bewertung Erstes Gespräch|Bewertung Prescreening|              E-Mail|Effektiver Gehalt|Einstellungsdatum|Geburtsdatum|Gehaltsvorstellungen|Geschlecht|Headhunter Firma|     Headhunter Name|         Interviewer|           Job Titel|       Kandidaten-ID|    Nachname|Standort|      Status|           StellenID|       Telefonnummer|Veröffentlichungsdatum| Vorname|  id|\n",
      "+--------------------+--------------------+---------------+------------------+--------------------+-------------------------+----------------------+--------------------+-----------------+-----------------+------------+--------------------+----------+----------------+--------------------+--------------------+--------------------+--------------------+------------+--------+------------+--------------------+--------------------+----------------------+--------+----+\n",
      "|                NULL|Steigerstrasse 9,...|     18.03.2020|        Headhunter|            genügend|                      gut|              sehr gut|jbuhler@wegmann-s...|         61955.38|       29.08.2021|  29.05.1973|              80-90k|         F|   Spörri-Gasser|  Ela Imhof Bachmann|    Prof. Layla Küng|   Event Coordinator|61d8aa1a-f914-41c...|       Schär|  Luzern|1. Interview|a701db5d-d96e-401...|001-562-276-1574x...|            26.05.2024| Vinzenz|0783|\n",
      "|Unzureichende Qua...|Eugsterstrasse 57...|     26.08.2023|    Organic search|            genügend|      deutlich ungenügend|                   gut|mercedesegli@roth...|        118534.59|       31.03.2024|  09.02.1973|              80-90k|         M|            NULL|                NULL|Greta Berger-Eich...|   Event Coordinator|666d4b4c-8e1c-4fd...|    Bolliger|  Luzern|     Angebot|99f518d5-9abd-40e...|001-512-623-7124x...|            24.11.2023|    Dave|269e|\n",
      "|              Andere|Zieglerstrasse 88...|     23.10.2021|            Direkt|                 gut|                      gut|   deutlich ungenügend|christoph27@yahoo...|         82601.45|       31.08.2023|  04.07.1990|            100-110k|         M|            NULL|                NULL|Marijana Blaser S...|          Copywriter|34e575ae-6fc3-44a...|        Kern|    Bern|1. Interview|0dab596b-eb9d-4e3...|       (944)478-8636|                  NULL| Ernesto|1db3|\n",
      "|  Bessere Kandidaten|Amreinstrasse 307...|     17.08.2023|              Meta|                NULL|         knapp ungenügend|                   gut|brauncedric@yahoo...|        105280.92|       03.03.2024|  25.04.1962|            130-140k|         M|            NULL|                NULL|      Séverine Huber|    Graphic Designer|e07f5ab9-2f20-473...|   Ackermann|  Luzern|  Assessment|0c92262c-364d-411...|   547.840.1953x2886|            28.10.2023|Patrícia|38a6|\n",
      "|     Nicht verfügbar|Zinggstrasse 42, ...|     02.04.2021|        Headhunter|                 gut|                 sehr gut|              sehr gut|steinmannbeat@yah...|        100032.47|       02.11.2021|  25.09.1994|              50-60k|         F|        Haas-Näf|     Remo Bernasconi|      Margret Hasler|       HR Specialist|23215d12-45cf-4f9...|       Favre|  Zürich| Eingereicht|829a71e1-829d-4e1...|001-216-173-5265x622|            09.03.2022| Clemens|4e75|\n",
      "|  Zu wenig Erfahrung|Gutstrasse 904, 3...|     26.12.2021|    Organic search|                NULL|                      gut|      knapp ungenügend| pablo69@hotmail.com|          77037.4|       14.01.2022|  27.03.1965|               >140k|         M|            NULL|                NULL|      Margret Hasler|       PR Specialist|4ddd702b-03c2-438...|      Schmid|  Zürich|Prescreening|4c29636e-6d69-49a...|          4165366478|                  NULL|  Leonor|e34a|\n",
      "|              Andere|Gloorstrasse 4, 8...|     24.02.2023|            Direkt| deutlich ungenügend|                 genügend|              genügend|    mael63@peter.com|         86660.59|       26.06.2023|  12.03.1990|               >140k|         F|            NULL|                NULL|        Hermine Hess|           Recruiter|70201b91-3a2b-42c...|      Bühler|    Bern| Eingereicht|ed4391ac-6373-42e...|          8760955009|            15.03.2023|  Corine|ae81|\n",
      "|Unvollständige Be...|Amreinstrasse 295...|     09.10.2023|            Direkt|                 gut|                 sehr gut|              genügend|eduardkaufmann@ya...|         65295.24|       21.02.2024|  14.07.1983|            100-110k|         F|            NULL|                NULL|    Ghislaine Walter|   Event Coordinator|8dc839bc-7958-479...|         Näf|    Bern|  Assessment|bc62062e-69bb-46c...| +1-476-272-6942x504|            03.12.2023|Mariella|8da6|\n",
      "|Gehaltsvorstellun...|Stockerstrasse 96...|     19.01.2020|              Meta|                 gut|         knapp ungenügend|      knapp ungenügend|csiegrist@sidler.com|        111931.76|       26.01.2022|  05.11.1963|              70-80k|         F|            NULL|                NULL|      Margret Hasler|  Payroll Specialist|eef9cdb7-32fb-456...|      Wagner|  Zürich|   Abgelehnt|5d19068a-6d5e-4b2...|001-053-488-3163x248|            27.07.2020|   Amira|464d|\n",
      "|Gehaltsvorstellun...|Bolligerstrasse 4...|     16.02.2020| LinkedIN Jobslots|            sehr gut|                 genügend|              sehr gut|nivesstettler@yah...|          77202.9|       25.08.2023|  04.11.1967|               >140k|         F|            NULL|                NULL|      Margret Hasler|       Brand Manager|8d40648a-8a58-4f6...|       Vogel|  Luzern| Eingereicht|7f07fe3f-9c1a-460...|   288-748-0593x3956|                  NULL|  Patrik|8f91|\n",
      "|Unvollständige Be...|Schwarzstrasse 48...|     21.06.2023|LinkedIN Paid Post| deutlich ungenügend|                      gut|                   gut|   uthommen@wolf.org|         78886.28|       05.09.2023|  24.10.1976|            130-140k|         M|            NULL|                NULL|        Manon Bättig|       Brand Manager|7fc8dc4e-5a6a-4cb...|   Betschart|  Zürich| Eingereicht|601855ac-6233-487...|     +1-245-345-7426|            17.05.2024| Margret|df3b|\n",
      "|  Zu wenig Erfahrung|Steinmannstrasse ...|     06.02.2022|            Direkt|            genügend|                 genügend|   deutlich ungenügend|holgerzehnder@ite...|         80903.47|       20.08.2022|  31.12.1988|            110-120k|         M|            NULL|                NULL|Marijana Blaser S...|      Budget Analyst|bef7d5f0-8f60-41c...|       Mäder|  Luzern|Prescreening|1e41df02-835c-46c...|                NULL|            09.03.2023|  Silvan|cc0f|\n",
      "|Unzureichende Qua...|Sennstrasse 99, 9...|     11.04.2021|        Headhunter|                 gut|                 sehr gut|              sehr gut|hoffmannviola@koh...|        133788.96|       11.07.2022|  05.08.1971|              60-70k|         M|      Maurer Inc|Aloisia Stöckli-B...|    Prof. Layla Küng|          Copywriter|8d1bddc6-a393-4ef...|       Meier|  Zürich|1. Interview|5a1468e4-3234-426...|                NULL|            01.06.2023| Therese|1211|\n",
      "|    Überqualifiziert|Schumacherstrasse...|     12.04.2021|              Meta|            genügend|      deutlich ungenügend|      knapp ungenügend|  bbraun@hotmail.com|        131012.22|       06.08.2022|  25.08.1975|            110-120k|         F|            NULL|                NULL|      Margret Hasler|             Auditor|7c138d62-5b13-4f3...|    Bachmann|  Luzern| Eingereicht|749af02d-4f0d-45a...|001-342-408-9672x...|            07.10.2021| Morgane|b090|\n",
      "|Unvollständige Be...|Hunzikerstrasse 5...|     22.04.2022|LinkedIN Paid Post|    knapp ungenügend|                      gut|              sehr gut|   nfrei@hotmail.com|          53356.2|       20.07.2023|  21.07.2002|            100-110k|         M|            NULL|                NULL|         Wanda Giger|   Marketing Manager|50762928-eed4-447...|   Wettstein|  Luzern|  Assessment|9766369d-e6eb-40b...|    340-325-6106x667|            22.04.2023|    Jean|fb6d|\n",
      "|  Zu wenig Erfahrung|Wolfstrasse 94, 7...|     12.10.2020|LinkedIN Paid Post|            genügend|      deutlich ungenügend|                   gut| eveline72@weber.com|        130341.93|       31.08.2021|  03.12.1960|            100-110k|         F|            NULL|                NULL|      Margret Hasler|Network Administr...|13baa269-a5dc-443...|    Schnyder|    Bern|Prescreening|e1bc0b29-ee93-48c...|          8827715651|                  NULL| Kirsten|6220|\n",
      "|              Andere|Steigerstrasse 87...|     06.04.2022|        Google Ads|                 gut|      deutlich ungenügend|   deutlich ungenügend|delphinehofstette...|         62032.67|       31.07.2022|  04.02.1994|               >140k|      NULL|            NULL|                NULL|      Franca Zürcher|   Marketing Manager|0b431c37-cc16-4db...|Lustenberger|  Luzern|     Angebot|7bacd4a4-cc11-4c0...|    181.100.8358x028|            16.12.2023|Isabelle|9a21|\n",
      "|Unzureichende Qua...|Zbindenstrasse 2,...|     24.05.2022|        Headhunter|                 gut|                 genügend|   deutlich ungenügend|volkerbattig@gmai...|        120278.38|       05.08.2022|  29.08.1961|               >140k|         M|        Haas-Näf|     Remo Bernasconi| Gregor Eichenberger|   Event Coordinator|08f65503-b86d-44b...|     Hofmann|  Zürich|   Abgelehnt|5fc5f4da-9ea1-476...|    086.336.7745x359|            18.10.2023| Giorgio|d5b1|\n",
      "|Gehaltsvorstellun...|Meisterstrasse 19...|     16.02.2020|            Direkt|    knapp ungenügend|      deutlich ungenügend|              sehr gut|raffaelasteffen@y...|        124885.92|       05.03.2021|  19.01.1984|                NULL|         F|            NULL|                NULL|         Wanda Giger|   Financial Analyst|316b7bc3-94d7-433...|     Kessler|  Zürich|   Abgelehnt|07f40c8f-c896-48a...|        216-975-7557|            15.04.2020|  Drilon|bb80|\n",
      "|Gehaltsvorstellun...|Baurstrasse 33, 3...|     01.04.2021|              Meta|            genügend|         knapp ungenügend|   deutlich ungenügend|brunnermonique@we...|         93629.88|       08.04.2022|  21.08.1981|                NULL|         F|            NULL|                NULL|      Séverine Huber|       PR Specialist|06bd7b4b-4c59-4e3...|   Steinmann|  Zürich|   Abgelehnt|0e219a4a-5a28-46b...|          1024068123|            20.10.2023|Fernande|0755|\n",
      "+--------------------+--------------------+---------------+------------------+--------------------+-------------------------+----------------------+--------------------+-----------------+-----------------+------------+--------------------+----------+----------------+--------------------+--------------------+--------------------+--------------------+------------+--------+------------+--------------------+--------------------+----------------------+--------+----+\n",
      "only showing top 20 rows\n",
      "\n"
     ]
    }
   ],
   "source": [
    "# JSON-Datei in einen Spark DataFrame laden\n",
    "df = spark.read.json(temp_json_path)\n",
    "\n",
    "# Optional: DataFrame anzeigen\n",
    "df.show()\n"
   ]
  },
  {
   "cell_type": "markdown",
   "metadata": {},
   "source": [
    "# Konfiguration für Google Cloud Storage\n",
    "In diesem Notebook wird die Google Cloud konfiguriert.\n"
   ]
  },
  {
   "cell_type": "code",
   "execution_count": 36,
   "metadata": {},
   "outputs": [],
   "source": [
    "# Namen des Google Cloud Storage Buckets und der Zieldatei festlegen\n",
    "bucket_name = 'prod_prototype'\n",
    "destination_blob_name = 'bronze/applicant_data_raw'\n",
    "\n",
    "# Dienstkonto-Datei laden\n",
    "service_account_json = '/Users/Kevin/Documents/GitHub/Transferarbeit/Prototyp_Transferarbeit_Lokal/Setup/prototyp-etl-pipline-d6cbb438aa70.json'\n",
    "credentials = service_account.Credentials.from_service_account_file(service_account_json)\n",
    "\n",
    "# Google Cloud Storage Client initialisieren\n",
    "client = storage.Client(credentials=credentials, project='prototyp-etl-pipline')\n",
    "bucket = client.bucket(bucket_name)\n",
    "blob = bucket.blob(destination_blob_name)\n"
   ]
  },
  {
   "cell_type": "markdown",
   "metadata": {},
   "source": [
    "# Speichern des DataFrames als JSON auf Google Cloud Storage\n",
    "In diesem Notebook wird der DataFrame als JSON-Datei auf Google Cloud Storage gespeichert.\n"
   ]
  },
  {
   "cell_type": "code",
   "execution_count": 38,
   "metadata": {},
   "outputs": [
    {
     "ename": "Py4JJavaError",
     "evalue": "An error occurred while calling o67.json.\n: org.apache.hadoop.fs.UnsupportedFileSystemException: No FileSystem for scheme \"gs\"\n\tat org.apache.hadoop.fs.FileSystem.getFileSystemClass(FileSystem.java:3443)\n\tat org.apache.hadoop.fs.FileSystem.createFileSystem(FileSystem.java:3466)\n\tat org.apache.hadoop.fs.FileSystem.access$300(FileSystem.java:174)\n\tat org.apache.hadoop.fs.FileSystem$Cache.getInternal(FileSystem.java:3574)\n\tat org.apache.hadoop.fs.FileSystem$Cache.get(FileSystem.java:3521)\n\tat org.apache.hadoop.fs.FileSystem.get(FileSystem.java:540)\n\tat org.apache.hadoop.fs.Path.getFileSystem(Path.java:365)\n\tat org.apache.spark.sql.execution.datasources.DataSource.planForWritingFileFormat(DataSource.scala:454)\n\tat org.apache.spark.sql.execution.datasources.DataSource.planForWriting(DataSource.scala:530)\n\tat org.apache.spark.sql.DataFrameWriter.saveToV1Source(DataFrameWriter.scala:388)\n\tat org.apache.spark.sql.DataFrameWriter.saveInternal(DataFrameWriter.scala:361)\n\tat org.apache.spark.sql.DataFrameWriter.save(DataFrameWriter.scala:240)\n\tat org.apache.spark.sql.DataFrameWriter.json(DataFrameWriter.scala:774)\n\tat java.base/jdk.internal.reflect.DirectMethodHandleAccessor.invoke(DirectMethodHandleAccessor.java:103)\n\tat java.base/java.lang.reflect.Method.invoke(Method.java:580)\n\tat py4j.reflection.MethodInvoker.invoke(MethodInvoker.java:244)\n\tat py4j.reflection.ReflectionEngine.invoke(ReflectionEngine.java:374)\n\tat py4j.Gateway.invoke(Gateway.java:282)\n\tat py4j.commands.AbstractCommand.invokeMethod(AbstractCommand.java:132)\n\tat py4j.commands.CallCommand.execute(CallCommand.java:79)\n\tat py4j.ClientServerConnection.waitForCommands(ClientServerConnection.java:182)\n\tat py4j.ClientServerConnection.run(ClientServerConnection.java:106)\n\tat java.base/java.lang.Thread.run(Thread.java:1570)\n",
     "output_type": "error",
     "traceback": [
      "\u001b[0;31m---------------------------------------------------------------------------\u001b[0m",
      "\u001b[0;31mPy4JJavaError\u001b[0m                             Traceback (most recent call last)",
      "Cell \u001b[0;32mIn[38], line 3\u001b[0m\n\u001b[1;32m      1\u001b[0m \u001b[38;5;66;03m# DataFrame als JSON auf Google Cloud Storage speichern\u001b[39;00m\n\u001b[1;32m      2\u001b[0m output_path \u001b[38;5;241m=\u001b[39m \u001b[38;5;124m'\u001b[39m\u001b[38;5;124mgs://\u001b[39m\u001b[38;5;132;01m{}\u001b[39;00m\u001b[38;5;124m/\u001b[39m\u001b[38;5;132;01m{}\u001b[39;00m\u001b[38;5;124m'\u001b[39m\u001b[38;5;241m.\u001b[39mformat(bucket_name, destination_blob_name)\n\u001b[0;32m----> 3\u001b[0m df\u001b[38;5;241m.\u001b[39mwrite\u001b[38;5;241m.\u001b[39mmode(\u001b[38;5;124m'\u001b[39m\u001b[38;5;124moverwrite\u001b[39m\u001b[38;5;124m'\u001b[39m)\u001b[38;5;241m.\u001b[39mjson(output_path)\n\u001b[1;32m      5\u001b[0m \u001b[38;5;66;03m# Optional: Überprüfen, ob die Datei erfolgreich hochgeladen wurde\u001b[39;00m\n\u001b[1;32m      6\u001b[0m blobs \u001b[38;5;241m=\u001b[39m \u001b[38;5;28mlist\u001b[39m(bucket\u001b[38;5;241m.\u001b[39mlist_blobs(prefix\u001b[38;5;241m=\u001b[39mdestination_blob_name))\n",
      "File \u001b[0;32m/opt/anaconda3/lib/python3.11/site-packages/pyspark/sql/readwriter.py:1658\u001b[0m, in \u001b[0;36mDataFrameWriter.json\u001b[0;34m(self, path, mode, compression, dateFormat, timestampFormat, lineSep, encoding, ignoreNullFields)\u001b[0m\n\u001b[1;32m   1649\u001b[0m \u001b[38;5;28mself\u001b[39m\u001b[38;5;241m.\u001b[39mmode(mode)\n\u001b[1;32m   1650\u001b[0m \u001b[38;5;28mself\u001b[39m\u001b[38;5;241m.\u001b[39m_set_opts(\n\u001b[1;32m   1651\u001b[0m     compression\u001b[38;5;241m=\u001b[39mcompression,\n\u001b[1;32m   1652\u001b[0m     dateFormat\u001b[38;5;241m=\u001b[39mdateFormat,\n\u001b[0;32m   (...)\u001b[0m\n\u001b[1;32m   1656\u001b[0m     ignoreNullFields\u001b[38;5;241m=\u001b[39mignoreNullFields,\n\u001b[1;32m   1657\u001b[0m )\n\u001b[0;32m-> 1658\u001b[0m \u001b[38;5;28mself\u001b[39m\u001b[38;5;241m.\u001b[39m_jwrite\u001b[38;5;241m.\u001b[39mjson(path)\n",
      "File \u001b[0;32m/opt/anaconda3/lib/python3.11/site-packages/py4j/java_gateway.py:1322\u001b[0m, in \u001b[0;36mJavaMember.__call__\u001b[0;34m(self, *args)\u001b[0m\n\u001b[1;32m   1316\u001b[0m command \u001b[38;5;241m=\u001b[39m proto\u001b[38;5;241m.\u001b[39mCALL_COMMAND_NAME \u001b[38;5;241m+\u001b[39m\\\n\u001b[1;32m   1317\u001b[0m     \u001b[38;5;28mself\u001b[39m\u001b[38;5;241m.\u001b[39mcommand_header \u001b[38;5;241m+\u001b[39m\\\n\u001b[1;32m   1318\u001b[0m     args_command \u001b[38;5;241m+\u001b[39m\\\n\u001b[1;32m   1319\u001b[0m     proto\u001b[38;5;241m.\u001b[39mEND_COMMAND_PART\n\u001b[1;32m   1321\u001b[0m answer \u001b[38;5;241m=\u001b[39m \u001b[38;5;28mself\u001b[39m\u001b[38;5;241m.\u001b[39mgateway_client\u001b[38;5;241m.\u001b[39msend_command(command)\n\u001b[0;32m-> 1322\u001b[0m return_value \u001b[38;5;241m=\u001b[39m get_return_value(\n\u001b[1;32m   1323\u001b[0m     answer, \u001b[38;5;28mself\u001b[39m\u001b[38;5;241m.\u001b[39mgateway_client, \u001b[38;5;28mself\u001b[39m\u001b[38;5;241m.\u001b[39mtarget_id, \u001b[38;5;28mself\u001b[39m\u001b[38;5;241m.\u001b[39mname)\n\u001b[1;32m   1325\u001b[0m \u001b[38;5;28;01mfor\u001b[39;00m temp_arg \u001b[38;5;129;01min\u001b[39;00m temp_args:\n\u001b[1;32m   1326\u001b[0m     \u001b[38;5;28;01mif\u001b[39;00m \u001b[38;5;28mhasattr\u001b[39m(temp_arg, \u001b[38;5;124m\"\u001b[39m\u001b[38;5;124m_detach\u001b[39m\u001b[38;5;124m\"\u001b[39m):\n",
      "File \u001b[0;32m/opt/anaconda3/lib/python3.11/site-packages/pyspark/errors/exceptions/captured.py:179\u001b[0m, in \u001b[0;36mcapture_sql_exception.<locals>.deco\u001b[0;34m(*a, **kw)\u001b[0m\n\u001b[1;32m    177\u001b[0m \u001b[38;5;28;01mdef\u001b[39;00m \u001b[38;5;21mdeco\u001b[39m(\u001b[38;5;241m*\u001b[39ma: Any, \u001b[38;5;241m*\u001b[39m\u001b[38;5;241m*\u001b[39mkw: Any) \u001b[38;5;241m-\u001b[39m\u001b[38;5;241m>\u001b[39m Any:\n\u001b[1;32m    178\u001b[0m     \u001b[38;5;28;01mtry\u001b[39;00m:\n\u001b[0;32m--> 179\u001b[0m         \u001b[38;5;28;01mreturn\u001b[39;00m f(\u001b[38;5;241m*\u001b[39ma, \u001b[38;5;241m*\u001b[39m\u001b[38;5;241m*\u001b[39mkw)\n\u001b[1;32m    180\u001b[0m     \u001b[38;5;28;01mexcept\u001b[39;00m Py4JJavaError \u001b[38;5;28;01mas\u001b[39;00m e:\n\u001b[1;32m    181\u001b[0m         converted \u001b[38;5;241m=\u001b[39m convert_exception(e\u001b[38;5;241m.\u001b[39mjava_exception)\n",
      "File \u001b[0;32m/opt/anaconda3/lib/python3.11/site-packages/py4j/protocol.py:326\u001b[0m, in \u001b[0;36mget_return_value\u001b[0;34m(answer, gateway_client, target_id, name)\u001b[0m\n\u001b[1;32m    324\u001b[0m value \u001b[38;5;241m=\u001b[39m OUTPUT_CONVERTER[\u001b[38;5;28mtype\u001b[39m](answer[\u001b[38;5;241m2\u001b[39m:], gateway_client)\n\u001b[1;32m    325\u001b[0m \u001b[38;5;28;01mif\u001b[39;00m answer[\u001b[38;5;241m1\u001b[39m] \u001b[38;5;241m==\u001b[39m REFERENCE_TYPE:\n\u001b[0;32m--> 326\u001b[0m     \u001b[38;5;28;01mraise\u001b[39;00m Py4JJavaError(\n\u001b[1;32m    327\u001b[0m         \u001b[38;5;124m\"\u001b[39m\u001b[38;5;124mAn error occurred while calling \u001b[39m\u001b[38;5;132;01m{0}\u001b[39;00m\u001b[38;5;132;01m{1}\u001b[39;00m\u001b[38;5;132;01m{2}\u001b[39;00m\u001b[38;5;124m.\u001b[39m\u001b[38;5;130;01m\\n\u001b[39;00m\u001b[38;5;124m\"\u001b[39m\u001b[38;5;241m.\u001b[39m\n\u001b[1;32m    328\u001b[0m         \u001b[38;5;28mformat\u001b[39m(target_id, \u001b[38;5;124m\"\u001b[39m\u001b[38;5;124m.\u001b[39m\u001b[38;5;124m\"\u001b[39m, name), value)\n\u001b[1;32m    329\u001b[0m \u001b[38;5;28;01melse\u001b[39;00m:\n\u001b[1;32m    330\u001b[0m     \u001b[38;5;28;01mraise\u001b[39;00m Py4JError(\n\u001b[1;32m    331\u001b[0m         \u001b[38;5;124m\"\u001b[39m\u001b[38;5;124mAn error occurred while calling \u001b[39m\u001b[38;5;132;01m{0}\u001b[39;00m\u001b[38;5;132;01m{1}\u001b[39;00m\u001b[38;5;132;01m{2}\u001b[39;00m\u001b[38;5;124m. Trace:\u001b[39m\u001b[38;5;130;01m\\n\u001b[39;00m\u001b[38;5;132;01m{3}\u001b[39;00m\u001b[38;5;130;01m\\n\u001b[39;00m\u001b[38;5;124m\"\u001b[39m\u001b[38;5;241m.\u001b[39m\n\u001b[1;32m    332\u001b[0m         \u001b[38;5;28mformat\u001b[39m(target_id, \u001b[38;5;124m\"\u001b[39m\u001b[38;5;124m.\u001b[39m\u001b[38;5;124m\"\u001b[39m, name, value))\n",
      "\u001b[0;31mPy4JJavaError\u001b[0m: An error occurred while calling o67.json.\n: org.apache.hadoop.fs.UnsupportedFileSystemException: No FileSystem for scheme \"gs\"\n\tat org.apache.hadoop.fs.FileSystem.getFileSystemClass(FileSystem.java:3443)\n\tat org.apache.hadoop.fs.FileSystem.createFileSystem(FileSystem.java:3466)\n\tat org.apache.hadoop.fs.FileSystem.access$300(FileSystem.java:174)\n\tat org.apache.hadoop.fs.FileSystem$Cache.getInternal(FileSystem.java:3574)\n\tat org.apache.hadoop.fs.FileSystem$Cache.get(FileSystem.java:3521)\n\tat org.apache.hadoop.fs.FileSystem.get(FileSystem.java:540)\n\tat org.apache.hadoop.fs.Path.getFileSystem(Path.java:365)\n\tat org.apache.spark.sql.execution.datasources.DataSource.planForWritingFileFormat(DataSource.scala:454)\n\tat org.apache.spark.sql.execution.datasources.DataSource.planForWriting(DataSource.scala:530)\n\tat org.apache.spark.sql.DataFrameWriter.saveToV1Source(DataFrameWriter.scala:388)\n\tat org.apache.spark.sql.DataFrameWriter.saveInternal(DataFrameWriter.scala:361)\n\tat org.apache.spark.sql.DataFrameWriter.save(DataFrameWriter.scala:240)\n\tat org.apache.spark.sql.DataFrameWriter.json(DataFrameWriter.scala:774)\n\tat java.base/jdk.internal.reflect.DirectMethodHandleAccessor.invoke(DirectMethodHandleAccessor.java:103)\n\tat java.base/java.lang.reflect.Method.invoke(Method.java:580)\n\tat py4j.reflection.MethodInvoker.invoke(MethodInvoker.java:244)\n\tat py4j.reflection.ReflectionEngine.invoke(ReflectionEngine.java:374)\n\tat py4j.Gateway.invoke(Gateway.java:282)\n\tat py4j.commands.AbstractCommand.invokeMethod(AbstractCommand.java:132)\n\tat py4j.commands.CallCommand.execute(CallCommand.java:79)\n\tat py4j.ClientServerConnection.waitForCommands(ClientServerConnection.java:182)\n\tat py4j.ClientServerConnection.run(ClientServerConnection.java:106)\n\tat java.base/java.lang.Thread.run(Thread.java:1570)\n"
     ]
    }
   ],
   "source": [
    "# DataFrame als JSON auf Google Cloud Storage speichern\n",
    "output_path = 'gs://{}/{}'.format(bucket_name, destination_blob_name)\n",
    "df.write.mode('overwrite').json(output_path)\n",
    "\n",
    "# Optional: Überprüfen, ob die Datei erfolgreich hochgeladen wurde\n",
    "blobs = list(bucket.list_blobs(prefix=destination_blob_name))\n",
    "if len(blobs) > 0:\n",
    "    print(f\"File successfully uploaded to {destination_blob_name} in bucket {bucket_name}.\")\n",
    "else:\n",
    "    print(\"File upload failed.\")\n"
   ]
  },
  {
   "cell_type": "markdown",
   "metadata": {},
   "source": [
    "# Beenden der Spark Session\n",
    "In diesem Notebook wird die Spark Session beendet.\n"
   ]
  },
  {
   "cell_type": "code",
   "execution_count": null,
   "metadata": {},
   "outputs": [],
   "source": [
    "# Spark Session beenden\n",
    "spark.stop()\n"
   ]
  }
 ],
 "metadata": {
  "kernelspec": {
   "display_name": "Python 3",
   "language": "python",
   "name": "python3"
  },
  "language_info": {
   "codemirror_mode": {
    "name": "ipython",
    "version": 3
   },
   "file_extension": ".py",
   "mimetype": "text/x-python",
   "name": "python",
   "nbconvert_exporter": "python",
   "pygments_lexer": "ipython3",
   "version": "3.11.7"
  }
 },
 "nbformat": 4,
 "nbformat_minor": 2
}
