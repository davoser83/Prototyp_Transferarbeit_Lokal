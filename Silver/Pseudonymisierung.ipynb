{
 "cells": [
  {
   "cell_type": "markdown",
   "metadata": {},
   "source": [
    "# Initialisiere Spark Session\n",
    "In diesem Notebook wird die Spark Session vorbereitet."
   ]
  },
  {
   "cell_type": "code",
   "execution_count": 7,
   "metadata": {},
   "outputs": [
    {
     "data": {
      "text/html": [
       "\n",
       "            <div>\n",
       "                <p><b>SparkSession - in-memory</b></p>\n",
       "                \n",
       "        <div>\n",
       "            <p><b>SparkContext</b></p>\n",
       "\n",
       "            <p><a href=\"http://192.168.23.110:4040\">Spark UI</a></p>\n",
       "\n",
       "            <dl>\n",
       "              <dt>Version</dt>\n",
       "                <dd><code>v3.5.1</code></dd>\n",
       "              <dt>Master</dt>\n",
       "                <dd><code>local[*]</code></dd>\n",
       "              <dt>AppName</dt>\n",
       "                <dd><code>Datatransformation</code></dd>\n",
       "            </dl>\n",
       "        </div>\n",
       "        \n",
       "            </div>\n",
       "        "
      ],
      "text/plain": [
       "<pyspark.sql.session.SparkSession at 0x11415a550>"
      ]
     },
     "execution_count": 7,
     "metadata": {},
     "output_type": "execute_result"
    }
   ],
   "source": [
    "# Importieren der benötigten Bibliotheken\n",
    "from pyspark.sql import SparkSession\n",
    "\n",
    "# Beispiel für das Hinzufügen des GCS Connectors zu einer lokalen Spark-Session\n",
    "spark = SparkSession.builder \\\n",
    "    .appName(\"Datatransformation\") \\\n",
    "    .config('spark.sql.debug.maxToStringFields', '1000') \\\n",
    "    .config(\"spark.jars.packages\", \"com.google.cloud.bigdataoss:gcs-connector:hadoop3-2.2.2\") \\\n",
    "    .config(\"spark.hadoop.fs.gs.impl\", \"com.google.cloud.hadoop.fs.gcs.GoogleHadoopFileSystem\") \\\n",
    "    .config(\"spark.hadoop.google.cloud.auth.service.account.enable\", \"true\") \\\n",
    "    .config(\"spark.hadoop.google.cloud.auth.service.account.json.keyfile\", \"/Users/Kevin/Documents/GitHub/Transferarbeit/Prototyp_Transferarbeit_Lokal/Setup/prototyp-etl-pipline-d6cbb438aa70.json\") \\\n",
    "    .getOrCreate()\n",
    "    \n",
    "# Überprüfen der SparkSession\n",
    "spark"
   ]
  },
  {
   "cell_type": "markdown",
   "metadata": {},
   "source": [
    "# Konfiguration der Google Cloud und Herunterladen der Paquet-Datei\n",
    "\n",
    "In diesem Notebook wird die Google Cloud konfiguriert und eine Parque-Datei heruntergeladen."
   ]
  },
  {
   "cell_type": "code",
   "execution_count": 8,
   "metadata": {},
   "outputs": [
    {
     "name": "stdout",
     "output_type": "stream",
     "text": [
      "Datei silver/sensitive/._SUCCESS.crc erfolgreich heruntergeladen zu /tmp/applicant_data_cleaned/._SUCCESS.crc.\n",
      "Datei silver/sensitive/.part-00000-ce17f809-34e6-4001-8576-06672977b23f-c000.snappy.parquet.crc erfolgreich heruntergeladen zu /tmp/applicant_data_cleaned/.part-00000-ce17f809-34e6-4001-8576-06672977b23f-c000.snappy.parquet.crc.\n",
      "Datei silver/sensitive/_SUCCESS erfolgreich heruntergeladen zu /tmp/applicant_data_cleaned/_SUCCESS.\n",
      "Datei silver/sensitive/part-00000-ce17f809-34e6-4001-8576-06672977b23f-c000.snappy.parquet erfolgreich heruntergeladen zu /tmp/applicant_data_cleaned/part-00000-ce17f809-34e6-4001-8576-06672977b23f-c000.snappy.parquet.\n"
     ]
    }
   ],
   "source": [
    "import os\n",
    "from google.cloud import storage\n",
    "from google.oauth2 import service_account\n",
    "\n",
    "# Dienstkonto-Datei laden\n",
    "service_account_json = '/Users/Kevin/Documents/GitHub/Transferarbeit/Prototyp_Transferarbeit_Lokal/Setup/prototyp-etl-pipline-d6cbb438aa70.json'\n",
    "credentials = service_account.Credentials.from_service_account_file(service_account_json)\n",
    "\n",
    "# Google Cloud Storage Client initialisieren\n",
    "client = storage.Client(credentials=credentials, project='prototyp-etl-pipline')\n",
    "\n",
    "# Funktion zum Herunterladen eines Verzeichnisses von Google Cloud Storage\n",
    "def download_directory_from_gcs(bucket_name, source_directory, local_directory):\n",
    "    bucket = client.bucket(bucket_name)\n",
    "    blobs = bucket.list_blobs(prefix=source_directory)\n",
    "    \n",
    "    for blob in blobs:\n",
    "        if not blob.name.endswith('/'):\n",
    "            local_path = os.path.join(local_directory, os.path.relpath(blob.name, source_directory))\n",
    "            os.makedirs(os.path.dirname(local_path), exist_ok=True)\n",
    "            blob.download_to_filename(local_path)\n",
    "            print(f\"Datei {blob.name} erfolgreich heruntergeladen zu {local_path}.\")\n",
    "\n",
    "# Beispielaufruf der Funktion\n",
    "bucket_name = 'prod_prototype'\n",
    "source_directory = 'silver/sensitive/'\n",
    "local_directory = '/tmp/applicant_data_cleaned/'\n",
    "\n",
    "download_directory_from_gcs(bucket_name, source_directory, local_directory)\n"
   ]
  },
  {
   "cell_type": "markdown",
   "metadata": {},
   "source": [
    "# Parquet Dateien in Dataframe laden\n",
    "\n",
    "Hier werden die heruntergeladenen parquet Dateien wieder zusammengeführt und in Dataframe gespeichert."
   ]
  },
  {
   "cell_type": "code",
   "execution_count": 9,
   "metadata": {},
   "outputs": [
    {
     "name": "stdout",
     "output_type": "stream",
     "text": [
      "+--------------------+--------------------+---------------+----------------+--------------------+-------------------------+----------------------+--------------------+-----------------+-----------------+------------+--------------------+----------+--------------------+--------------------+--------------------+--------------------+--------------------+-----------+--------+------------+--------------------+-------------------+----------------------+---------+----+\n",
      "|     Ablehnungsgrund|             Adresse|Bewerbungsdatum|Bewerbungsquelle|Bewertung Assessment|Bewertung Erstes Gespräch|Bewertung Prescreening|              E-Mail|Effektiver Gehalt|Einstellungsdatum|Geburtsdatum|Gehaltsvorstellungen|Geschlecht|    Headhunter Firma|     Headhunter Name|         Interviewer|           Job Titel|       Kandidaten-ID|   Nachname|Standort|      Status|           StellenID|      Telefonnummer|Veröffentlichungsdatum|  Vorname|  id|\n",
      "+--------------------+--------------------+---------------+----------------+--------------------+-------------------------+----------------------+--------------------+-----------------+-----------------+------------+--------------------+----------+--------------------+--------------------+--------------------+--------------------+--------------------+-----------+--------+------------+--------------------+-------------------+----------------------+---------+----+\n",
      "|     Nicht verfügbar|Staubstrasse 98, ...|     01.12.2021|      Headhunter| deutlich ungenügend|      deutlich ungenügend|      knapp ungenügend| btanner@hotmail.com|         79406.31|       01.07.2022|  14.05.1993|            120-130k|         M|         Zehnder Inc| Dr. Mercedes Kaiser|      Joachim Kaiser|      SEO Specialist|b5d27862-0fa0-489...|   Stauffer|    Bern| Eingereicht|b42b3f5b-4c62-49b...|          139293559|            12.10.2022|  Alberto|75e8|\n",
      "|Unzureichende Qua...|Eggerstrasse 17, ...|     31.05.2021|      Headhunter|            genügend|      deutlich ungenügend|   deutlich ungenügend|nicolas66@hotmail...|        121252.98|       25.05.2022|  15.02.1987|              60-70k|         M|Siegrist, Ziegler...|         Enis Bühler|        Hermine Hess|       HR Specialist|01fca5d2-703f-44f...|      Ernst|  Luzern|     Angebot|8c15555d-8f87-403...|++41 418 794 34 475|            07.11.2023| Matthias|0d64|\n",
      "|              Andere|Moserstrasse 82, ...|     11.01.2023|      Headhunter| deutlich ungenügend|         knapp ungenügend|                   gut|zbindenpatrik@gma...|        133640.69|       13.01.2024|  01.06.1960|              80-90k|         M|Siegrist, Ziegler...|         Enis Bühler|    Prof. Layla Küng|Database Administ...|4050f934-ffcf-4de...|  Schlatter|    Bern|1. Interview|2eae3f24-5840-43d...|   +41 28 421 67 70|            07.05.2023|    Yasin|6038|\n",
      "|Unvollständige Be...|Meierstrasse 41, ...|     19.12.2022|      Headhunter| deutlich ungenügend|      deutlich ungenügend|              genügend|josef94@ott-burri...|         51143.05|       23.09.2023|  16.02.1974|            100-110k|         M|         Ziegler Inc|    Teresa Schneider|         Wanda Giger|          Accountant|ae397cd7-d10c-479...|   Bosshard|  Zürich|  Assessment|74bc8c43-d4c1-4aa...|      515 751 38 45|            05.05.2024|    Felix|8f85|\n",
      "|Unvollständige Be...|Eggerstrasse 717,...|     28.12.2022|      Headhunter|                 gut|         knapp ungenügend|      knapp ungenügend| shpresa54@yahoo.com|         69613.66|       17.03.2024|  13.03.1977|               >140k|         F|        Zingg-Gasser|     Damaris Zbinden|    Ghislaine Walter|     Content Creator|4ccfc7c5-2642-493...|       Kern|  Luzern|   Abgelehnt|c66522ee-e8f7-4f3...|   +41 76 544 27 45|            14.11.2023|     Rosa|f5a8|\n",
      "|  Zu wenig Erfahrung|Scherrerstrasse 8...|     12.10.2022|      Headhunter|    knapp ungenügend|      deutlich ungenügend|                   gut|  grosseve@yahoo.com|        118725.59|       03.04.2024|  26.02.1966|              60-70k|         M|         Zehnder Inc| Dr. Mercedes Kaiser|    Prof. Layla Küng|  Payroll Specialist|e7f36ec8-af46-405...|     Kaiser|  Luzern|     Angebot|b2adfb77-e428-453...|          398992220|            17.05.2023|    Leano|89a5|\n",
      "|Gehaltsvorstellun...|Maurerstrasse 436...|     22.03.2020|      Headhunter|                 gut|      deutlich ungenügend|                   gut|gloorardit@portma...|         73501.14|       12.02.2021|  22.10.1970|               >140k|         F|    Albrecht-Forster|   Dr. Petr Siegrist|     Kristian Furrer|             Auditor|9687e5c4-b097-453...|Baumgartner|  Zürich|     Angebot|37914122-229f-44b...|++41 417 840 88 929|            29.07.2023|   Agatha|6580|\n",
      "|Unvollständige Be...|Christenstrasse 5...|     03.05.2024|      Headhunter|            sehr gut|                 sehr gut|              genügend|avnischwab@furrer...|        128679.66|       20.05.2024|  17.09.1985|            100-110k|         F|Siegrist, Ziegler...|         Enis Bühler|         Wanda Giger|    Graphic Designer|2c4f4e9c-39a8-4b7...|     Maurer|    Bern| Eingereicht|e4362733-0559-497...|++41 417 649 36 967|            09.05.2024|    Fritz|d66a|\n",
      "|     Nicht verfügbar|Bieristrasse 561,...|     05.05.2020|      Headhunter|                 gut|      deutlich ungenügend|              sehr gut|    eluthi@yahoo.com|         111268.3|       20.08.2022|  07.05.1972|              60-70k|         M|            Haas-Näf|     Remo Bernasconi|     Kristian Furrer|             Auditor|b8bc8b5d-744b-427...|    Sigrist|    Bern|     Angebot|03398803-9d46-4e5...|      422 328 75 49|            28.09.2023|   Gisela|45d9|\n",
      "|  Zu wenig Erfahrung|Hessstrasse 8, 71...|     22.12.2021|      Headhunter|    knapp ungenügend|                 sehr gut|   deutlich ungenügend|jostbucher@yahoo.com|        122633.48|       24.10.2022|  16.10.2003|              60-70k|         F|       Spörri-Gasser|  Ela Imhof Bachmann|    Ghislaine Walter|  Payroll Specialist|88f8c68d-437b-407...|      Burri|  Luzern|  Assessment|61c24327-aca9-438...|      654 943 15 10|            19.09.2023|     Nora|c9df|\n",
      "|  Zu wenig Erfahrung|Wyssstrasse 238, ...|     01.04.2020|      Headhunter|            sehr gut|                 genügend|              genügend|  holger48@gmail.com|         96795.59|       21.12.2020|  13.04.1965|              80-90k|         M|       Spörri-Gasser|  Ela Imhof Bachmann|        Manon Bättig|       HR Specialist|a2f9e6ac-41df-41d...|    Zbinden|    Bern|   Abgelehnt|95b561d6-08ae-412...|          125668887|            10.08.2023|    Darko|db6a|\n",
      "|    Überqualifiziert|Vogelstrasse 41, ...|     11.04.2022|      Headhunter|                 gut|         knapp ungenügend|                   gut|  xforster@gmail.com|        108831.92|       12.09.2023|  05.08.1997|            100-110k|         F|       Spörri-Gasser|  Ela Imhof Bachmann|    Prof. Layla Küng|       Brand Manager|e2d06637-2b23-461...|      Jenni|    Bern|     Angebot|9f9a2e93-213a-44a...|   +41 61 400 46 88|            27.08.2022|  Arlinda|9f55|\n",
      "|  Bessere Kandidaten|Kaufmannstrasse 5...|     27.01.2022|      Headhunter|            genügend|                      gut|   deutlich ungenügend|maurerjaqueline@y...|        105438.61|       22.12.2023|  24.11.1979|              50-60k|         M|          Maurer Inc|Aloisia Stöckli-B...|        Hermine Hess|          IT Manager|e0977a26-cca4-468...|   Häfliger|    Bern|  Assessment|ef9f7d62-38eb-49b...|   +41 55 701 36 25|            09.11.2023|Rosemarie|3ca4|\n",
      "|  Zu wenig Erfahrung|Schaubstrasse 35,...|     07.02.2020|      Headhunter|                 gut|                 sehr gut|              sehr gut|jeanne74@hotmail.com|         72299.09|       01.03.2021|  16.02.2006|             90-100k|         F|            Haas-Näf|     Remo Bernasconi|    Ghislaine Walter|       PR Specialist|b22d6f23-47d7-401...|      Bader|    Bern|1. Interview|89a5445b-8913-4ae...|      710 999 67 64|            01.04.2023|     Joel|745e|\n",
      "|Unzureichende Qua...|Bernasconistrasse...|     08.04.2021|      Headhunter| deutlich ungenügend|         knapp ungenügend|   deutlich ungenügend|edmundschnyder@hu...|        127729.13|       06.05.2023|  18.10.1985|            100-110k|         M|        Zingg-Gasser|     Damaris Zbinden|        Hermine Hess|       PR Specialist|f2f27b96-7a51-4b8...|       Hotz|  Luzern|  Assessment|e6ad791d-ceed-4e6...|++41 417 184 78 624|            12.04.2022|     Remo|def1|\n",
      "|  Bessere Kandidaten|Ackermannstrasse ...|     29.09.2021|      Headhunter|    knapp ungenügend|                 sehr gut|      knapp ungenügend|radmila18@schaub.com|         67381.47|       21.06.2023|  14.01.1991|            130-140k|         F|Siegrist, Ziegler...|         Enis Bühler|        Manon Bättig|  Payroll Specialist|844c02a5-a6ba-457...|      Meier|  Luzern|   Abgelehnt|0df787e7-24b2-4b4...|   +41 79 453 87 86|            03.11.2022|  Gertrud|c887|\n",
      "|Gehaltsvorstellun...|Eggerstrasse 91, ...|     07.11.2023|      Headhunter| deutlich ungenügend|                 genügend|              genügend|    tmeyer@yahoo.com|        115164.01|       07.12.2023|  11.08.1958|            100-110k|         M|         Ziegler Inc|    Teresa Schneider|    Prof. Layla Küng|      Budget Analyst|7cf433de-1b36-4a2...|  Flückiger|  Luzern| Eingereicht|441acd18-3a70-4fa...|++41 415 863 94 837|            28.03.2024|  Lindita|918c|\n",
      "|Unvollständige Be...|Wegmannstrasse 98...|     19.12.2023|      Headhunter|            genügend|         knapp ungenügend|              sehr gut|marysewehrli@gmai...|         54401.02|       24.01.2024|  03.08.1979|              60-70k|         F|            Haas-Näf|     Remo Bernasconi|      Joachim Kaiser|          Copywriter|d34fee3a-738c-419...|    Schärer|    Bern|  Assessment|e5fd4cab-02ad-491...|          222223279|            21.05.2024|  Eveline|63cf|\n",
      "|              Andere|Hodelstrasse 17, ...|     09.04.2023|      Headhunter|            sehr gut|                 sehr gut|              genügend|damienott@hotmail...|         66715.73|       30.10.2023|  15.10.2001|              50-60k|         M|        Zingg-Gasser|     Damaris Zbinden|Greta Berger-Eich...|Database Administ...|d0cff7eb-cdb9-45c...|       Brun|  Zürich|  Assessment|1bd1298a-750e-42e...|++41 413 241 91 561|            09.03.2024|Katarzyna|9535|\n",
      "|     Nicht verfügbar|Meyerstrasse 1, 9...|     01.08.2020|      Headhunter|            sehr gut|                      gut|              sehr gut|casparblaser@weng...|         91141.67|       25.04.2023|  08.12.1972|            110-120k|         M|       Spörri-Gasser|  Ela Imhof Bachmann|         Wanda Giger|     Content Creator|873bc9fc-fbac-4d5...|Baumgartner|  Luzern|Prescreening|426e8d3a-c0a1-40b...|++41 415 651 12 335|            21.01.2024|    Lilli|9035|\n",
      "+--------------------+--------------------+---------------+----------------+--------------------+-------------------------+----------------------+--------------------+-----------------+-----------------+------------+--------------------+----------+--------------------+--------------------+--------------------+--------------------+--------------------+-----------+--------+------------+--------------------+-------------------+----------------------+---------+----+\n",
      "only showing top 20 rows\n",
      "\n"
     ]
    }
   ],
   "source": [
    "\n",
    "# Parquet-Dateien laden\n",
    "df_cleaned = spark.read.parquet(local_directory)\n",
    "df_cleaned.show()"
   ]
  },
  {
   "cell_type": "code",
   "execution_count": null,
   "metadata": {},
   "outputs": [],
   "source": [
    "from pyspark.sql.functions import lit, concat_ws, monotonically_increasing_id\n",
    "\n",
    "# Funktion zur Pseudonymisierung einer Spalte mit einer fortlaufenden Nummer\n",
    "def pseudonymize_column(df, column_name, alias_name):\n",
    "    \"\"\"\n",
    "    Pseudonymisiert eine Spalte in einem DataFrame mit einer fortlaufenden Nummer.\n",
    "    \n",
    "    Args:\n",
    "        df (DataFrame): Das DataFrame, das pseudonymisiert werden soll.\n",
    "        column_name (str): Der Name der Spalte, die pseudonymisiert werden soll.\n",
    "        alias_name (str): Der Alias-Name für die pseudonymisierte Spalte.\n",
    "        \n",
    "    Returns:"
   ]
  },
  {
   "cell_type": "code",
   "execution_count": 27,
   "metadata": {},
   "outputs": [
    {
     "name": "stdout",
     "output_type": "stream",
     "text": [
      "+--------------------+--------------------+---------------+----------------+--------------------+-------------------------+----------------------+--------------------+-----------------+-----------------+------------+--------------------+----------+--------------------+--------------------+--------------------+--------------------+--------------------+--------------------+--------+------------+--------------------+--------------------+----------------------+--------------------+----+\n",
      "|     Ablehnungsgrund|             Adresse|Bewerbungsdatum|Bewerbungsquelle|Bewertung Assessment|Bewertung Erstes Gespräch|Bewertung Prescreening|              E-Mail|Effektiver Gehalt|Einstellungsdatum|Geburtsdatum|Gehaltsvorstellungen|Geschlecht|    Headhunter Firma|     Headhunter Name|         Interviewer|           Job Titel|       Kandidaten-ID|            Nachname|Standort|      Status|           StellenID|       Telefonnummer|Veröffentlichungsdatum|             Vorname|  id|\n",
      "+--------------------+--------------------+---------------+----------------+--------------------+-------------------------+----------------------+--------------------+-----------------+-----------------+------------+--------------------+----------+--------------------+--------------------+--------------------+--------------------+--------------------+--------------------+--------+------------+--------------------+--------------------+----------------------+--------------------+----+\n",
      "|     Nicht verfügbar|Pseudonymized, 38...|     01.12.2021|      Headhunter| deutlich ungenügend|      deutlich ungenügend|      knapp ungenügend|pseudonymized_E-M...|         79406.31|       01.07.2022|  14.05.1993|            120-130k|         M|         Zehnder Inc| Dr. Mercedes Kaiser|      Joachim Kaiser|      SEO Specialist|b5d27862-0fa0-489...|pseudonymized_Nac...|    Bern| Eingereicht|b42b3f5b-4c62-49b...|pseudonymized_Tel...|            12.10.2022|pseudonymized_Vor...|75e8|\n",
      "|Unzureichende Qua...|Pseudonymized, 98...|     31.05.2021|      Headhunter|            genügend|      deutlich ungenügend|   deutlich ungenügend|pseudonymized_E-M...|        121252.98|       25.05.2022|  15.02.1987|              60-70k|         M|Siegrist, Ziegler...|         Enis Bühler|        Hermine Hess|       HR Specialist|01fca5d2-703f-44f...|pseudonymized_Nac...|  Luzern|     Angebot|8c15555d-8f87-403...|pseudonymized_Tel...|            07.11.2023|pseudonymized_Vor...|0d64|\n",
      "|              Andere|Pseudonymized, 39...|     11.01.2023|      Headhunter| deutlich ungenügend|         knapp ungenügend|                   gut|pseudonymized_E-M...|        133640.69|       13.01.2024|  01.06.1960|              80-90k|         M|Siegrist, Ziegler...|         Enis Bühler|    Prof. Layla Küng|Database Administ...|4050f934-ffcf-4de...|pseudonymized_Nac...|    Bern|1. Interview|2eae3f24-5840-43d...|pseudonymized_Tel...|            07.05.2023|pseudonymized_Vor...|6038|\n",
      "|Unvollständige Be...|Pseudonymized, 37...|     19.12.2022|      Headhunter| deutlich ungenügend|      deutlich ungenügend|              genügend|pseudonymized_E-M...|         51143.05|       23.09.2023|  16.02.1974|            100-110k|         M|         Ziegler Inc|    Teresa Schneider|         Wanda Giger|          Accountant|ae397cd7-d10c-479...|pseudonymized_Nac...|  Zürich|  Assessment|74bc8c43-d4c1-4aa...|pseudonymized_Tel...|            05.05.2024|pseudonymized_Vor...|8f85|\n",
      "|Unvollständige Be...|Pseudonymized, 96...|     28.12.2022|      Headhunter|                 gut|         knapp ungenügend|      knapp ungenügend|pseudonymized_E-M...|         69613.66|       17.03.2024|  13.03.1977|               >140k|         F|        Zingg-Gasser|     Damaris Zbinden|    Ghislaine Walter|     Content Creator|4ccfc7c5-2642-493...|pseudonymized_Nac...|  Luzern|   Abgelehnt|c66522ee-e8f7-4f3...|pseudonymized_Tel...|            14.11.2023|pseudonymized_Vor...|f5a8|\n",
      "|  Zu wenig Erfahrung|Pseudonymized, 46...|     12.10.2022|      Headhunter|    knapp ungenügend|      deutlich ungenügend|                   gut|pseudonymized_E-M...|        118725.59|       03.04.2024|  26.02.1966|              60-70k|         M|         Zehnder Inc| Dr. Mercedes Kaiser|    Prof. Layla Küng|  Payroll Specialist|e7f36ec8-af46-405...|pseudonymized_Nac...|  Luzern|     Angebot|b2adfb77-e428-453...|pseudonymized_Tel...|            17.05.2023|pseudonymized_Vor...|89a5|\n",
      "|Gehaltsvorstellun...|Pseudonymized, 31...|     22.03.2020|      Headhunter|                 gut|      deutlich ungenügend|                   gut|pseudonymized_E-M...|         73501.14|       12.02.2021|  22.10.1970|               >140k|         F|    Albrecht-Forster|   Dr. Petr Siegrist|     Kristian Furrer|             Auditor|9687e5c4-b097-453...|pseudonymized_Nac...|  Zürich|     Angebot|37914122-229f-44b...|pseudonymized_Tel...|            29.07.2023|pseudonymized_Vor...|6580|\n",
      "|Unvollständige Be...|Pseudonymized, 43...|     03.05.2024|      Headhunter|            sehr gut|                 sehr gut|              genügend|pseudonymized_E-M...|        128679.66|       20.05.2024|  17.09.1985|            100-110k|         F|Siegrist, Ziegler...|         Enis Bühler|         Wanda Giger|    Graphic Designer|2c4f4e9c-39a8-4b7...|pseudonymized_Nac...|    Bern| Eingereicht|e4362733-0559-497...|pseudonymized_Tel...|            09.05.2024|pseudonymized_Vor...|d66a|\n",
      "|     Nicht verfügbar|Pseudonymized, 76...|     05.05.2020|      Headhunter|                 gut|      deutlich ungenügend|              sehr gut|pseudonymized_E-M...|         111268.3|       20.08.2022|  07.05.1972|              60-70k|         M|            Haas-Näf|     Remo Bernasconi|     Kristian Furrer|             Auditor|b8bc8b5d-744b-427...|pseudonymized_Nac...|    Bern|     Angebot|03398803-9d46-4e5...|pseudonymized_Tel...|            28.09.2023|pseudonymized_Vor...|45d9|\n",
      "|  Zu wenig Erfahrung|Pseudonymized, 71...|     22.12.2021|      Headhunter|    knapp ungenügend|                 sehr gut|   deutlich ungenügend|pseudonymized_E-M...|        122633.48|       24.10.2022|  16.10.2003|              60-70k|         F|       Spörri-Gasser|  Ela Imhof Bachmann|    Ghislaine Walter|  Payroll Specialist|88f8c68d-437b-407...|pseudonymized_Nac...|  Luzern|  Assessment|61c24327-aca9-438...|pseudonymized_Tel...|            19.09.2023|pseudonymized_Vor...|c9df|\n",
      "|  Zu wenig Erfahrung|Pseudonymized, 46...|     01.04.2020|      Headhunter|            sehr gut|                 genügend|              genügend|pseudonymized_E-M...|         96795.59|       21.12.2020|  13.04.1965|              80-90k|         M|       Spörri-Gasser|  Ela Imhof Bachmann|        Manon Bättig|       HR Specialist|a2f9e6ac-41df-41d...|pseudonymized_Nac...|    Bern|   Abgelehnt|95b561d6-08ae-412...|pseudonymized_Tel...|            10.08.2023|pseudonymized_Vor...|db6a|\n",
      "|    Überqualifiziert|Pseudonymized, 68...|     11.04.2022|      Headhunter|                 gut|         knapp ungenügend|                   gut|pseudonymized_E-M...|        108831.92|       12.09.2023|  05.08.1997|            100-110k|         F|       Spörri-Gasser|  Ela Imhof Bachmann|    Prof. Layla Küng|       Brand Manager|e2d06637-2b23-461...|pseudonymized_Nac...|    Bern|     Angebot|9f9a2e93-213a-44a...|pseudonymized_Tel...|            27.08.2022|pseudonymized_Vor...|9f55|\n",
      "|  Bessere Kandidaten|Pseudonymized, 13...|     27.01.2022|      Headhunter|            genügend|                      gut|   deutlich ungenügend|pseudonymized_E-M...|        105438.61|       22.12.2023|  24.11.1979|              50-60k|         M|          Maurer Inc|Aloisia Stöckli-B...|        Hermine Hess|          IT Manager|e0977a26-cca4-468...|pseudonymized_Nac...|    Bern|  Assessment|ef9f7d62-38eb-49b...|pseudonymized_Tel...|            09.11.2023|pseudonymized_Vor...|3ca4|\n",
      "|  Zu wenig Erfahrung|Pseudonymized, 19...|     07.02.2020|      Headhunter|                 gut|                 sehr gut|              sehr gut|pseudonymized_E-M...|         72299.09|       01.03.2021|  16.02.2006|             90-100k|         F|            Haas-Näf|     Remo Bernasconi|    Ghislaine Walter|       PR Specialist|b22d6f23-47d7-401...|pseudonymized_Nac...|    Bern|1. Interview|89a5445b-8913-4ae...|pseudonymized_Tel...|            01.04.2023|pseudonymized_Vor...|745e|\n",
      "|Unzureichende Qua...|Pseudonymized, 44...|     08.04.2021|      Headhunter| deutlich ungenügend|         knapp ungenügend|   deutlich ungenügend|pseudonymized_E-M...|        127729.13|       06.05.2023|  18.10.1985|            100-110k|         M|        Zingg-Gasser|     Damaris Zbinden|        Hermine Hess|       PR Specialist|f2f27b96-7a51-4b8...|pseudonymized_Nac...|  Luzern|  Assessment|e6ad791d-ceed-4e6...|pseudonymized_Tel...|            12.04.2022|pseudonymized_Vor...|def1|\n",
      "|  Bessere Kandidaten|Pseudonymized, 29...|     29.09.2021|      Headhunter|    knapp ungenügend|                 sehr gut|      knapp ungenügend|pseudonymized_E-M...|         67381.47|       21.06.2023|  14.01.1991|            130-140k|         F|Siegrist, Ziegler...|         Enis Bühler|        Manon Bättig|  Payroll Specialist|844c02a5-a6ba-457...|pseudonymized_Nac...|  Luzern|   Abgelehnt|0df787e7-24b2-4b4...|pseudonymized_Tel...|            03.11.2022|pseudonymized_Vor...|c887|\n",
      "|Gehaltsvorstellun...|Pseudonymized, 50...|     07.11.2023|      Headhunter| deutlich ungenügend|                 genügend|              genügend|pseudonymized_E-M...|        115164.01|       07.12.2023|  11.08.1958|            100-110k|         M|         Ziegler Inc|    Teresa Schneider|    Prof. Layla Küng|      Budget Analyst|7cf433de-1b36-4a2...|pseudonymized_Nac...|  Luzern| Eingereicht|441acd18-3a70-4fa...|pseudonymized_Tel...|            28.03.2024|pseudonymized_Vor...|918c|\n",
      "|Unvollständige Be...|Pseudonymized, 11...|     19.12.2023|      Headhunter|            genügend|         knapp ungenügend|              sehr gut|pseudonymized_E-M...|         54401.02|       24.01.2024|  03.08.1979|              60-70k|         F|            Haas-Näf|     Remo Bernasconi|      Joachim Kaiser|          Copywriter|d34fee3a-738c-419...|pseudonymized_Nac...|    Bern|  Assessment|e5fd4cab-02ad-491...|pseudonymized_Tel...|            21.05.2024|pseudonymized_Vor...|63cf|\n",
      "|              Andere|Pseudonymized, 22...|     09.04.2023|      Headhunter|            sehr gut|                 sehr gut|              genügend|pseudonymized_E-M...|         66715.73|       30.10.2023|  15.10.2001|              50-60k|         M|        Zingg-Gasser|     Damaris Zbinden|Greta Berger-Eich...|Database Administ...|d0cff7eb-cdb9-45c...|pseudonymized_Nac...|  Zürich|  Assessment|1bd1298a-750e-42e...|pseudonymized_Tel...|            09.03.2024|pseudonymized_Vor...|9535|\n",
      "|     Nicht verfügbar|Pseudonymized, 92...|     01.08.2020|      Headhunter|            sehr gut|                      gut|              sehr gut|pseudonymized_E-M...|         91141.67|       25.04.2023|  08.12.1972|            110-120k|         M|       Spörri-Gasser|  Ela Imhof Bachmann|         Wanda Giger|     Content Creator|873bc9fc-fbac-4d5...|pseudonymized_Nac...|  Luzern|Prescreening|426e8d3a-c0a1-40b...|pseudonymized_Tel...|            21.01.2024|pseudonymized_Vor...|9035|\n",
      "+--------------------+--------------------+---------------+----------------+--------------------+-------------------------+----------------------+--------------------+-----------------+-----------------+------------+--------------------+----------+--------------------+--------------------+--------------------+--------------------+--------------------+--------------------+--------+------------+--------------------+--------------------+----------------------+--------------------+----+\n",
      "only showing top 20 rows\n",
      "\n"
     ]
    }
   ],
   "source": [
    "from pyspark.sql.functions import lit, concat_ws, monotonically_increasing_id, regexp_replace, col\n",
    "\n",
    "# Pseudonymisierung einer Spalte\n",
    "def pseudonymize_column(df, column_name, alias_name):\n",
    "    # Add your pseudonymization logic here\n",
    "    return df.withColumn(alias_name, concat_ws(\"_\", lit(\"pseudonymized_\"+ column_name), monotonically_increasing_id()))\n",
    "\n",
    "\n",
    "# Pseudonymisiere die Spalten\n",
    "df_pseudonymized = pseudonymize_column(df, \"Vorname\", \"Vorname\")\n",
    "df_pseudonymized = pseudonymize_column(df_pseudonymized, \"Nachname\", \"Nachname\")\n",
    "df_pseudonymized = pseudonymize_column(df_pseudonymized, \"E-Mail\", \"E-Mail\")\n",
    "df_pseudonymized = pseudonymize_column(df_pseudonymized, \"Telefonnummer\", \"Telefonnummer\")\n",
    "\n",
    "# Pseudonymisiere Adresse: Ersetze Strassennamen und Nummern durch \"Pseudonymized\"\n",
    "df_pseudonymized = df_pseudonymized.withColumn(\"Adresse\", regexp_replace(col(\"Adresse\"), r\"^.*?(?=,)\", \"Pseudonymized\"))\n",
    "\n",
    "df_pseudonymized.show()\n",
    "\n",
    "# Überprüfe, ob die Datei bereits existiert\n",
    "\n",
    "df_pseudonymized.write.csv(output_path, header=True, mode=\"overwrite\")"
   ]
  },
  {
   "cell_type": "markdown",
   "metadata": {},
   "source": [
    "# Wieder auf Google hochladen"
   ]
  }
 ],
 "metadata": {
  "kernelspec": {
   "display_name": "base",
   "language": "python",
   "name": "python3"
  },
  "language_info": {
   "codemirror_mode": {
    "name": "ipython",
    "version": 3
   },
   "file_extension": ".py",
   "mimetype": "text/x-python",
   "name": "python",
   "nbconvert_exporter": "python",
   "pygments_lexer": "ipython3",
   "version": "3.11.7"
  }
 },
 "nbformat": 4,
 "nbformat_minor": 2
}
